{
 "cells": [
  {
   "cell_type": "code",
   "execution_count": 1,
   "metadata": {},
   "outputs": [
    {
     "name": "stdout",
     "output_type": "stream",
     "text": [
      "Metadata:\n",
      "- Duration: 18 sec 687 ms\n",
      "- Image width: 1920 pixels\n",
      "- Image height: 1080 pixels\n",
      "- Creation date: 2022-11-05 12:41:04\n",
      "- Last modification: 2022-11-05 12:41:04\n",
      "- Comment: Play speed: 100.0%\n",
      "- Comment: User volume: 100.0%\n",
      "- MIME type: video/mp4\n",
      "- Endianness: Big endian\n"
     ]
    }
   ],
   "source": [
    "from hachoir.parser import createParser\n",
    "from hachoir.metadata import extractMetadata\n",
    "\n",
    "file = r\"C:\\Users\\Daniel\\Desktop\\Bilder Papa\\VID_20220929_144049.mp4\"\n",
    "# file = r\"C:\\Users\\Daniel\\Desktop\\Bilder Papa - Kopie\\_\\VID_20210902_183602.mp4\"\n",
    "# file = r\"C:\\Users\\Daniel\\Desktop\\Bilder Papa - Kopie\\_\\VID_20210917_115704.mp4\"\n",
    "# file = r\"C:\\Users\\Daniel\\Desktop\\Bilder Papa - Kopie\\_\\VID_20220929_090345.mp4\"\n",
    "# file = r\"C:\\Users\\Daniel\\Desktop\\Bilder Papa - Kopie\\_\\VID_20220929_090439.mp4\"\n",
    "# file = r\"C:\\Users\\Daniel\\Desktop\\Bilder Papa - Kopie\\_\\VID_20220929_090755.mp4\"\n",
    "# file = r\"C:\\Users\\Daniel\\Desktop\\Bilder Papa - Kopie\\_\\VID_20220929_144049.mp4\"\n",
    "file = r\"C:\\Users\\Daniel\\Desktop\\Bilder Papa - Kopie\\_\\VID_20221002_102055.mp4\"\n",
    "# file = r\"C:\\Users\\Daniel\\Desktop\\Bilder Papa - Kopie\\_\\VID_20221103_060107.mp4\"\n",
    "# file = r\"C:\\Users\\Daniel\\Desktop\\Bilder Papa - Kopie\\_\\VID_20221105_124004.mp4\"\n",
    "file = r\"C:\\Users\\Daniel\\Desktop\\Bilder Papa - Kopie\\_\\VID_20221105_124104.mp4\"\n",
    "# file = r\n",
    "# file = r\n",
    "\n",
    "with createParser(file) as parser:\n",
    "    metadata = extractMetadata(parser)\n",
    "    for line in metadata.exportPlaintext():\n",
    "        print(line)\n",
    "        # if \"- Creation date: \" in line:\n",
    "        #     print(line.split(\"- Creation date: \")[1])\n",
    "        #     print(line)"
   ]
  },
  {
   "cell_type": "code",
   "execution_count": null,
   "metadata": {},
   "outputs": [],
   "source": [
    "import time\n",
    "import os.path\n",
    "\n",
    "time.ctime(os.path.getctime(file))"
   ]
  },
  {
   "cell_type": "code",
   "execution_count": null,
   "metadata": {},
   "outputs": [],
   "source": [
    "import os\n",
    "\n",
    "# Replace 'path/to/file.mp4' with the actual path to your video file\n",
    "file_path = file\n",
    "\n",
    "# Get the file's metadata using the os.stat function\n",
    "metadata = os.stat(file_path)\n",
    "\n",
    "# The creation timestamp is stored in the st_ctime attribute of the metadata\n",
    "creation_timestamp = metadata.st_ctime\n",
    "\n",
    "# Print the creation timestamp\n",
    "print(creation_timestamp)\n",
    "\n",
    "import datetime\n",
    "\n",
    "# Convert the Unix timestamp to a datetime object\n",
    "dt = datetime.datetime.fromtimestamp(creation_timestamp)\n",
    "\n",
    "# Format the datetime object as a string in the desired format\n",
    "formatted_timestamp = dt.strftime('%Y-%m-%d %H:%M:%S')\n",
    "\n",
    "# Print the formatted timestamp\n",
    "print(formatted_timestamp)"
   ]
  },
  {
   "cell_type": "code",
   "execution_count": null,
   "metadata": {},
   "outputs": [],
   "source": [
    "import pymediainfo\n",
    "\n",
    "# Replace 'path/to/file.mp4' with the actual path to your video file\n",
    "file_path = file\n",
    "\n",
    "# Extract the metadata from the video file using pymediainfo\n",
    "metadata = pymediainfo.MediaInfo.parse(file_path).to_data()\n",
    "\n",
    "pass\n",
    "\n",
    "# The capture timestamp is stored in the 'record_date' field of the metadata\n",
    "capture_timestamp = metadata['tracks'][0]['record_date']\n",
    "\n",
    "# Print the capture timestamp\n",
    "print(capture_timestamp)"
   ]
  },
  {
   "cell_type": "code",
   "execution_count": null,
   "metadata": {},
   "outputs": [],
   "source": [
    "import ffmpeg\n",
    "\n",
    "# Replace 'path/to/file.mp4' with the actual path to your video file\n",
    "file_path = file\n",
    "\n",
    "# Use the ffmpeg.probe function to get the metadata for the video file\n",
    "metadata = ffmpeg.probe(file_path)\n",
    "\n",
    "# The timestamp of the capture is stored in the 'creation_time' field of the metadata\n",
    "creation_time = metadata['format']['tags']['creation_time']\n",
    "\n",
    "# Print the creation time\n",
    "print(creation_time)\n"
   ]
  },
  {
   "cell_type": "code",
   "execution_count": null,
   "metadata": {},
   "outputs": [],
   "source": [
    "import pymediainfo\n",
    "import sys\n",
    "\n",
    "media_info = pymediainfo.MediaInfo.parse(file)\n",
    "print(media_info)\n",
    "#For the first track - otherwise iterate over each track\n",
    "print(media_info.general_tracks[0].file_creation_date)"
   ]
  },
  {
   "cell_type": "code",
   "execution_count": null,
   "metadata": {},
   "outputs": [],
   "source": [
    "import pymediainfo\n",
    "\n",
    "# Replace 'path/to/file.mp4' with the actual path to your video file\n",
    "file_path = file\n",
    "\n",
    "# Extract the metadata from the video file using pymediainfo\n",
    "metadata = pymediainfo.MediaInfo.parse(file_path).to_data()\n",
    "\n",
    "pass\n",
    "\n",
    "# The capture timestamp is stored in the 'record_date' field of the metadata\n",
    "capture_timestamp = metadata['tracks'][0]['record_date']\n",
    "\n",
    "# Print the capture timestamp\n",
    "print(capture_timestamp)"
   ]
  },
  {
   "cell_type": "code",
   "execution_count": null,
   "metadata": {},
   "outputs": [],
   "source": [
    "def get_mov_timestamps(filename):\n",
    "    ''' Get the creation and modification date-time from .mov metadata.\n",
    "\n",
    "        Returns None if a value is not available.\n",
    "    '''\n",
    "    from datetime import datetime as DateTime\n",
    "    import struct\n",
    "\n",
    "    ATOM_HEADER_SIZE = 8\n",
    "    # difference between Unix epoch and QuickTime epoch, in seconds\n",
    "    EPOCH_ADJUSTER = 2082844800\n",
    "\n",
    "    creation_time = modification_time = None\n",
    "\n",
    "    # search for moov item\n",
    "    with open(filename, \"rb\") as f:\n",
    "        while True:\n",
    "            atom_header = f.read(ATOM_HEADER_SIZE)\n",
    "            #~ print('atom header:', atom_header)  # debug purposes\n",
    "            if atom_header[4:8] == b'moov':\n",
    "                break  # found\n",
    "            else:\n",
    "                atom_size = struct.unpack('>I', atom_header[0:4])[0]\n",
    "                f.seek(atom_size - 8, 1)\n",
    "\n",
    "        # found 'moov', look for 'mvhd' and timestamps\n",
    "        atom_header = f.read(ATOM_HEADER_SIZE)\n",
    "        if atom_header[4:8] == b'cmov':\n",
    "            raise RuntimeError('moov atom is compressed')\n",
    "        elif atom_header[4:8] != b'mvhd':\n",
    "            raise RuntimeError('expected to find \"mvhd\" header.')\n",
    "        else:\n",
    "            f.seek(4, 1)\n",
    "            creation_time = struct.unpack('>I', f.read(4))[0] - EPOCH_ADJUSTER\n",
    "            creation_time = DateTime.fromtimestamp(creation_time)\n",
    "            if creation_time.year < 1990:  # invalid or censored data\n",
    "                creation_time = None\n",
    "\n",
    "            modification_time = struct.unpack('>I', f.read(4))[0] - EPOCH_ADJUSTER\n",
    "            modification_time = DateTime.fromtimestamp(modification_time)\n",
    "            if modification_time.year < 1990:  # invalid or censored data\n",
    "                modification_time = None\n",
    "\n",
    "    return creation_time, modification_time\n",
    "\n",
    "creation_time, modification_time = get_mov_timestamps(file)\n",
    "print(creation_time)\n",
    "print(modification_time)\n"
   ]
  },
  {
   "cell_type": "code",
   "execution_count": 3,
   "metadata": {},
   "outputs": [
    {
     "ename": "KeyError",
     "evalue": "'creation time'",
     "output_type": "error",
     "traceback": [
      "\u001b[1;31m---------------------------------------------------------------------------\u001b[0m",
      "\u001b[1;31mKeyError\u001b[0m                                  Traceback (most recent call last)",
      "Cell \u001b[1;32mIn[3], line 7\u001b[0m\n\u001b[0;32m      4\u001b[0m qt\u001b[39m.\u001b[39mparse()\n\u001b[0;32m      6\u001b[0m \u001b[39m#retrieve the creation-time as a string (the actual creation time, not the file-system creation time)\u001b[39;00m\n\u001b[1;32m----> 7\u001b[0m date \u001b[39m=\u001b[39m qt\u001b[39m.\u001b[39;49mmetadata[\u001b[39m\"\u001b[39;49m\u001b[39mcreation time\u001b[39;49m\u001b[39m\"\u001b[39;49m]\n\u001b[0;32m      9\u001b[0m \u001b[39m#traverse all key-value pairs of the metadata\u001b[39;00m\n\u001b[0;32m     10\u001b[0m \u001b[39mfor\u001b[39;00m key \u001b[39min\u001b[39;00m qt\u001b[39m.\u001b[39mmetadata\u001b[39m.\u001b[39mkeys():\n",
      "\u001b[1;31mKeyError\u001b[0m: 'creation time'"
     ]
    }
   ],
   "source": [
    "import quicktimeparser.parse as qtparse\n",
    "\n",
    "qt = qtparse.Mov(file)\n",
    "qt.parse()\n",
    "\n",
    "#retrieve the creation-time as a string (the actual creation time, not the file-system creation time)\n",
    "date = qt.metadata[\"creation time\"]\n",
    "\n",
    "#traverse all key-value pairs of the metadata\n",
    "for key in qt.metadata.keys():\n",
    "  print(key+\": \"+str(qt.metadata[key]))\n"
   ]
  },
  {
   "cell_type": "code",
   "execution_count": 10,
   "metadata": {},
   "outputs": [
    {
     "ename": "FileNotFoundError",
     "evalue": "[WinError 2] Das System kann die angegebene Datei nicht finden",
     "output_type": "error",
     "traceback": [
      "\u001b[1;31m---------------------------------------------------------------------------\u001b[0m",
      "\u001b[1;31mFileNotFoundError\u001b[0m                         Traceback (most recent call last)",
      "Cell \u001b[1;32mIn[10], line 18\u001b[0m\n\u001b[0;32m     15\u001b[0m                 \u001b[39mprint\u001b[39m(dt) \u001b[39m#you will get 3 dates: Create Date, Track Create Date and Media Create Date \u001b[39;00m\n\u001b[0;32m     17\u001b[0m file \u001b[39m=\u001b[39m \u001b[39m\"\u001b[39m\u001b[39mC:/Users/Daniel/Desktop/Bilder Papa - Kopie/_/VID_20221105_124104.mp4\u001b[39m\u001b[39m\"\u001b[39m\n\u001b[1;32m---> 18\u001b[0m get_exif_creation_dates_video(file)\n\u001b[0;32m     19\u001b[0m \u001b[39m# print(file)\u001b[39;00m\n",
      "Cell \u001b[1;32mIn[10], line 8\u001b[0m, in \u001b[0;36mget_exif_creation_dates_video\u001b[1;34m(path)\u001b[0m\n\u001b[0;32m      5\u001b[0m EXIF_DATE_FORMAT \u001b[39m=\u001b[39m \u001b[39m\"\u001b[39m\u001b[39m%\u001b[39m\u001b[39mY-\u001b[39m\u001b[39m%\u001b[39m\u001b[39mm-\u001b[39m\u001b[39m%d\u001b[39;00m\u001b[39m \u001b[39m\u001b[39m%\u001b[39m\u001b[39mH:\u001b[39m\u001b[39m%\u001b[39m\u001b[39mM:\u001b[39m\u001b[39m%\u001b[39m\u001b[39mS\u001b[39m\u001b[39m\"\u001b[39m\n\u001b[0;32m      6\u001b[0m absolute_path \u001b[39m=\u001b[39m os\u001b[39m.\u001b[39mpath\u001b[39m.\u001b[39mjoin( os\u001b[39m.\u001b[39mgetcwd(), path )\n\u001b[1;32m----> 8\u001b[0m process \u001b[39m=\u001b[39m subprocess\u001b[39m.\u001b[39;49mPopen([\u001b[39m\"\u001b[39;49m\u001b[39mexiftool\u001b[39;49m\u001b[39m\"\u001b[39;49m, absolute_path], stdout\u001b[39m=\u001b[39;49msubprocess\u001b[39m.\u001b[39;49mPIPE, stderr\u001b[39m=\u001b[39;49msubprocess\u001b[39m.\u001b[39;49mPIPE)\n\u001b[0;32m      9\u001b[0m out, err \u001b[39m=\u001b[39m process\u001b[39m.\u001b[39mcommunicate()\n\u001b[0;32m     10\u001b[0m lines \u001b[39m=\u001b[39m out\u001b[39m.\u001b[39mdecode(\u001b[39m\"\u001b[39m\u001b[39mutf-8\u001b[39m\u001b[39m\"\u001b[39m)\u001b[39m.\u001b[39msplit(\u001b[39m\"\u001b[39m\u001b[39m\\n\u001b[39;00m\u001b[39m\"\u001b[39m)\n",
      "File \u001b[1;32mc:\\Users\\Daniel\\AppData\\Local\\Programs\\Python\\Python39\\lib\\subprocess.py:951\u001b[0m, in \u001b[0;36mPopen.__init__\u001b[1;34m(self, args, bufsize, executable, stdin, stdout, stderr, preexec_fn, close_fds, shell, cwd, env, universal_newlines, startupinfo, creationflags, restore_signals, start_new_session, pass_fds, user, group, extra_groups, encoding, errors, text, umask)\u001b[0m\n\u001b[0;32m    947\u001b[0m         \u001b[39mif\u001b[39;00m \u001b[39mself\u001b[39m\u001b[39m.\u001b[39mtext_mode:\n\u001b[0;32m    948\u001b[0m             \u001b[39mself\u001b[39m\u001b[39m.\u001b[39mstderr \u001b[39m=\u001b[39m io\u001b[39m.\u001b[39mTextIOWrapper(\u001b[39mself\u001b[39m\u001b[39m.\u001b[39mstderr,\n\u001b[0;32m    949\u001b[0m                     encoding\u001b[39m=\u001b[39mencoding, errors\u001b[39m=\u001b[39merrors)\n\u001b[1;32m--> 951\u001b[0m     \u001b[39mself\u001b[39;49m\u001b[39m.\u001b[39;49m_execute_child(args, executable, preexec_fn, close_fds,\n\u001b[0;32m    952\u001b[0m                         pass_fds, cwd, env,\n\u001b[0;32m    953\u001b[0m                         startupinfo, creationflags, shell,\n\u001b[0;32m    954\u001b[0m                         p2cread, p2cwrite,\n\u001b[0;32m    955\u001b[0m                         c2pread, c2pwrite,\n\u001b[0;32m    956\u001b[0m                         errread, errwrite,\n\u001b[0;32m    957\u001b[0m                         restore_signals,\n\u001b[0;32m    958\u001b[0m                         gid, gids, uid, umask,\n\u001b[0;32m    959\u001b[0m                         start_new_session)\n\u001b[0;32m    960\u001b[0m \u001b[39mexcept\u001b[39;00m:\n\u001b[0;32m    961\u001b[0m     \u001b[39m# Cleanup if the child failed starting.\u001b[39;00m\n\u001b[0;32m    962\u001b[0m     \u001b[39mfor\u001b[39;00m f \u001b[39min\u001b[39;00m \u001b[39mfilter\u001b[39m(\u001b[39mNone\u001b[39;00m, (\u001b[39mself\u001b[39m\u001b[39m.\u001b[39mstdin, \u001b[39mself\u001b[39m\u001b[39m.\u001b[39mstdout, \u001b[39mself\u001b[39m\u001b[39m.\u001b[39mstderr)):\n",
      "File \u001b[1;32mc:\\Users\\Daniel\\AppData\\Local\\Programs\\Python\\Python39\\lib\\subprocess.py:1420\u001b[0m, in \u001b[0;36mPopen._execute_child\u001b[1;34m(self, args, executable, preexec_fn, close_fds, pass_fds, cwd, env, startupinfo, creationflags, shell, p2cread, p2cwrite, c2pread, c2pwrite, errread, errwrite, unused_restore_signals, unused_gid, unused_gids, unused_uid, unused_umask, unused_start_new_session)\u001b[0m\n\u001b[0;32m   1418\u001b[0m \u001b[39m# Start the process\u001b[39;00m\n\u001b[0;32m   1419\u001b[0m \u001b[39mtry\u001b[39;00m:\n\u001b[1;32m-> 1420\u001b[0m     hp, ht, pid, tid \u001b[39m=\u001b[39m _winapi\u001b[39m.\u001b[39;49mCreateProcess(executable, args,\n\u001b[0;32m   1421\u001b[0m                              \u001b[39m# no special security\u001b[39;49;00m\n\u001b[0;32m   1422\u001b[0m                              \u001b[39mNone\u001b[39;49;00m, \u001b[39mNone\u001b[39;49;00m,\n\u001b[0;32m   1423\u001b[0m                              \u001b[39mint\u001b[39;49m(\u001b[39mnot\u001b[39;49;00m close_fds),\n\u001b[0;32m   1424\u001b[0m                              creationflags,\n\u001b[0;32m   1425\u001b[0m                              env,\n\u001b[0;32m   1426\u001b[0m                              cwd,\n\u001b[0;32m   1427\u001b[0m                              startupinfo)\n\u001b[0;32m   1428\u001b[0m \u001b[39mfinally\u001b[39;00m:\n\u001b[0;32m   1429\u001b[0m     \u001b[39m# Child is launched. Close the parent's copy of those pipe\u001b[39;00m\n\u001b[0;32m   1430\u001b[0m     \u001b[39m# handles that only the child should have open.  You need\u001b[39;00m\n\u001b[1;32m   (...)\u001b[0m\n\u001b[0;32m   1433\u001b[0m     \u001b[39m# pipe will not close when the child process exits and the\u001b[39;00m\n\u001b[0;32m   1434\u001b[0m     \u001b[39m# ReadFile will hang.\u001b[39;00m\n\u001b[0;32m   1435\u001b[0m     \u001b[39mself\u001b[39m\u001b[39m.\u001b[39m_close_pipe_fds(p2cread, p2cwrite,\n\u001b[0;32m   1436\u001b[0m                          c2pread, c2pwrite,\n\u001b[0;32m   1437\u001b[0m                          errread, errwrite)\n",
      "File \u001b[1;32mc:\\Users\\Daniel\\AppData\\Local\\Programs\\Python\\Python39\\lib\\site-packages\\debugpy\\_vendored\\pydevd\\_pydev_bundle\\pydev_monkey.py:901\u001b[0m, in \u001b[0;36mcreate_CreateProcess.<locals>.new_CreateProcess\u001b[1;34m(app_name, cmd_line, *args)\u001b[0m\n\u001b[0;32m    898\u001b[0m     cmd_line \u001b[39m=\u001b[39m patch_arg_str_win(cmd_line)\n\u001b[0;32m    899\u001b[0m     send_process_created_message()\n\u001b[1;32m--> 901\u001b[0m \u001b[39mreturn\u001b[39;00m \u001b[39mgetattr\u001b[39;49m(_subprocess, original_name)(app_name, cmd_line, \u001b[39m*\u001b[39;49margs)\n",
      "\u001b[1;31mFileNotFoundError\u001b[0m: [WinError 2] Das System kann die angegebene Datei nicht finden"
     ]
    }
   ],
   "source": [
    "import subprocess\n",
    "\n",
    "def get_exif_creation_dates_video(path):\n",
    "    EXIFTOOL_DATE_TAG_VIDEOS = \"Create Date\"\n",
    "    EXIF_DATE_FORMAT = \"%Y-%m-%d %H:%M:%S\"\n",
    "    absolute_path = os.path.join( os.getcwd(), path )\n",
    "\n",
    "    process = subprocess.Popen([\"exiftool\", absolute_path], stdout=subprocess.PIPE, stderr=subprocess.PIPE)\n",
    "    out, err = process.communicate()\n",
    "    lines = out.decode(\"utf-8\").split(\"\\n\")\n",
    "    for l in lines:\n",
    "        if EXIFTOOL_DATE_TAG_VIDEOS in str(l):\n",
    "                datetime_str = str(l.split(\" : \")[1].strip())\n",
    "                dt = datetime.strptime(datetime_str, EXIF_DATE_FORMAT)\n",
    "                print(dt) #you will get 3 dates: Create Date, Track Create Date and Media Create Date \n",
    "\n",
    "file = \"C:/Users/Daniel/Desktop/Bilder Papa - Kopie/_/VID_20221105_124104.mp4\"\n",
    "get_exif_creation_dates_video(file)\n",
    "# print(file)"
   ]
  },
  {
   "cell_type": "code",
   "execution_count": 14,
   "metadata": {},
   "outputs": [
    {
     "name": "stderr",
     "output_type": "stream",
     "text": [
      "File format not recognized.\n"
     ]
    },
    {
     "name": "stdout",
     "output_type": "stream",
     "text": [
      "{}\n"
     ]
    }
   ],
   "source": [
    "import exifread\n",
    "\n",
    "file = \"C:/Users/Daniel/Desktop/Bilder Papa - Kopie/_/VID_20221105_124104.mp4\"\n",
    "f = open(file, \"rb\")\n",
    "tags = exifread.process_file(f)\n",
    "print(tags)"
   ]
  },
  {
   "cell_type": "code",
   "execution_count": 16,
   "metadata": {},
   "outputs": [
    {
     "ename": "SyntaxError",
     "evalue": "(unicode error) 'unicodeescape' codec can't decode bytes in position 3-4: truncated \\UXXXXXXXX escape (1971335789.py, line 5)",
     "output_type": "error",
     "traceback": [
      "\u001b[1;36m  Cell \u001b[1;32mIn[16], line 5\u001b[1;36m\u001b[0m\n\u001b[1;33m    cmd = \"'C:\\Users\\Daniel\\Desktop\\Bilder Papa - Kopie\\exiftool-12.52\\exiftool(-k).exe' '%s'\" % file\u001b[0m\n\u001b[1;37m                                                                                               ^\u001b[0m\n\u001b[1;31mSyntaxError\u001b[0m\u001b[1;31m:\u001b[0m (unicode error) 'unicodeescape' codec can't decode bytes in position 3-4: truncated \\UXXXXXXXX escape\n"
     ]
    }
   ],
   "source": [
    "EXIFTOOL_DATE_TAG_VIDEOS = \"Create Date\"\n",
    "EXIF_DATE_FORMAT = \"%Y:%m:%d %H:%M:%S\"\n",
    "file = \"C:/Users/Daniel/Desktop/Bilder Papa - Kopie/_/VID_20221105_124104.mp4\"\n",
    "\n",
    "cmd = \"'C:\\Users\\Daniel\\Desktop\\Bilder Papa - Kopie\\exiftool-12.52\\exiftool(-k).exe' '%s'\" % file\n",
    "output = subprocess.check_output(cmd, shell=True)\n",
    "lines = output.decode(\"ascii\").split(\"\\n\")\n",
    "for l in lines:\n",
    "    if EXIFTOOL_DATE_TAG_VIDEOS in l:\n",
    "            datetime_str = l.split(\" : \")[1]\n",
    "            print(datetime.datetime.strptime(datetime_str,\n",
    "                                             EXIF_DATE_FORMAT))\n",
    "\n",
    "# exiftool(-k).exe\n",
    "\n"
   ]
  },
  {
   "cell_type": "code",
   "execution_count": 20,
   "metadata": {},
   "outputs": [],
   "source": [
    "def get_exif_creation_dates_video(path):\n",
    "    EXIFTOOL_DATE_TAG_VIDEOS = \"Create Date\"\n",
    "    EXIF_DATE_FORMAT = \"%Y-%m-%d %H:%M:%S\"\n",
    "    absolute_path = os.path.join( os.getcwd(), path )\n",
    "\n",
    "    process = subprocess.Popen([r'C:\\Users\\Daniel\\Desktop\\Bilder Papa - Kopie\\exiftool-12.52\\exiftool(-k).exe', absolute_path], stdout=subprocess.PIPE, stderr=subprocess.PIPE)\n",
    "    out, err = process.communicate()\n",
    "    lines = out.decode(\"utf-8\").split(\"\\n\")\n",
    "    for l in lines:\n",
    "        if EXIFTOOL_DATE_TAG_VIDEOS in str(l):\n",
    "                datetime_str = str(l.split(\" : \")[1].strip())\n",
    "                dt = datetime.strptime(datetime_str, EXIF_DATE_FORMAT)\n",
    "                print(dt) #you will get 3 dates: Create Date, Track Create Date and Media Create Date \n",
    "\n",
    "file = \"C:/Users/Daniel/Desktop/Bilder Papa - Kopie/_/VID_20221105_124104.mp4\"\n",
    "get_exif_creation_dates_video(file)"
   ]
  },
  {
   "cell_type": "code",
   "execution_count": 6,
   "metadata": {},
   "outputs": [
    {
     "ename": "FileNotFoundError",
     "evalue": "[WinError 2] Das System kann die angegebene Datei nicht finden",
     "output_type": "error",
     "traceback": [
      "\u001b[1;31m---------------------------------------------------------------------------\u001b[0m",
      "\u001b[1;31mFileNotFoundError\u001b[0m                         Traceback (most recent call last)",
      "Cell \u001b[1;32mIn[6], line 10\u001b[0m\n\u001b[0;32m      8\u001b[0m media_file \u001b[39m=\u001b[39m file\n\u001b[0;32m      9\u001b[0m \u001b[39m# uses ffprobe command to extract all possible metadata from the media file\u001b[39;00m\n\u001b[1;32m---> 10\u001b[0m ffmpeg\u001b[39m.\u001b[39;49mprobe(media_file)[\u001b[39m\"\u001b[39m\u001b[39mstreams\u001b[39m\u001b[39m\"\u001b[39m]\n",
      "File \u001b[1;32mc:\\Users\\Daniel\\AppData\\Local\\Programs\\Python\\Python39\\lib\\site-packages\\ffmpeg\\_probe.py:20\u001b[0m, in \u001b[0;36mprobe\u001b[1;34m(filename, cmd, **kwargs)\u001b[0m\n\u001b[0;32m     17\u001b[0m args \u001b[39m+\u001b[39m\u001b[39m=\u001b[39m convert_kwargs_to_cmd_line_args(kwargs)\n\u001b[0;32m     18\u001b[0m args \u001b[39m+\u001b[39m\u001b[39m=\u001b[39m [filename]\n\u001b[1;32m---> 20\u001b[0m p \u001b[39m=\u001b[39m subprocess\u001b[39m.\u001b[39;49mPopen(args, stdout\u001b[39m=\u001b[39;49msubprocess\u001b[39m.\u001b[39;49mPIPE, stderr\u001b[39m=\u001b[39;49msubprocess\u001b[39m.\u001b[39;49mPIPE)\n\u001b[0;32m     21\u001b[0m out, err \u001b[39m=\u001b[39m p\u001b[39m.\u001b[39mcommunicate()\n\u001b[0;32m     22\u001b[0m \u001b[39mif\u001b[39;00m p\u001b[39m.\u001b[39mreturncode \u001b[39m!=\u001b[39m \u001b[39m0\u001b[39m:\n",
      "File \u001b[1;32mc:\\Users\\Daniel\\AppData\\Local\\Programs\\Python\\Python39\\lib\\subprocess.py:951\u001b[0m, in \u001b[0;36mPopen.__init__\u001b[1;34m(self, args, bufsize, executable, stdin, stdout, stderr, preexec_fn, close_fds, shell, cwd, env, universal_newlines, startupinfo, creationflags, restore_signals, start_new_session, pass_fds, user, group, extra_groups, encoding, errors, text, umask)\u001b[0m\n\u001b[0;32m    947\u001b[0m         \u001b[39mif\u001b[39;00m \u001b[39mself\u001b[39m\u001b[39m.\u001b[39mtext_mode:\n\u001b[0;32m    948\u001b[0m             \u001b[39mself\u001b[39m\u001b[39m.\u001b[39mstderr \u001b[39m=\u001b[39m io\u001b[39m.\u001b[39mTextIOWrapper(\u001b[39mself\u001b[39m\u001b[39m.\u001b[39mstderr,\n\u001b[0;32m    949\u001b[0m                     encoding\u001b[39m=\u001b[39mencoding, errors\u001b[39m=\u001b[39merrors)\n\u001b[1;32m--> 951\u001b[0m     \u001b[39mself\u001b[39;49m\u001b[39m.\u001b[39;49m_execute_child(args, executable, preexec_fn, close_fds,\n\u001b[0;32m    952\u001b[0m                         pass_fds, cwd, env,\n\u001b[0;32m    953\u001b[0m                         startupinfo, creationflags, shell,\n\u001b[0;32m    954\u001b[0m                         p2cread, p2cwrite,\n\u001b[0;32m    955\u001b[0m                         c2pread, c2pwrite,\n\u001b[0;32m    956\u001b[0m                         errread, errwrite,\n\u001b[0;32m    957\u001b[0m                         restore_signals,\n\u001b[0;32m    958\u001b[0m                         gid, gids, uid, umask,\n\u001b[0;32m    959\u001b[0m                         start_new_session)\n\u001b[0;32m    960\u001b[0m \u001b[39mexcept\u001b[39;00m:\n\u001b[0;32m    961\u001b[0m     \u001b[39m# Cleanup if the child failed starting.\u001b[39;00m\n\u001b[0;32m    962\u001b[0m     \u001b[39mfor\u001b[39;00m f \u001b[39min\u001b[39;00m \u001b[39mfilter\u001b[39m(\u001b[39mNone\u001b[39;00m, (\u001b[39mself\u001b[39m\u001b[39m.\u001b[39mstdin, \u001b[39mself\u001b[39m\u001b[39m.\u001b[39mstdout, \u001b[39mself\u001b[39m\u001b[39m.\u001b[39mstderr)):\n",
      "File \u001b[1;32mc:\\Users\\Daniel\\AppData\\Local\\Programs\\Python\\Python39\\lib\\subprocess.py:1420\u001b[0m, in \u001b[0;36mPopen._execute_child\u001b[1;34m(self, args, executable, preexec_fn, close_fds, pass_fds, cwd, env, startupinfo, creationflags, shell, p2cread, p2cwrite, c2pread, c2pwrite, errread, errwrite, unused_restore_signals, unused_gid, unused_gids, unused_uid, unused_umask, unused_start_new_session)\u001b[0m\n\u001b[0;32m   1418\u001b[0m \u001b[39m# Start the process\u001b[39;00m\n\u001b[0;32m   1419\u001b[0m \u001b[39mtry\u001b[39;00m:\n\u001b[1;32m-> 1420\u001b[0m     hp, ht, pid, tid \u001b[39m=\u001b[39m _winapi\u001b[39m.\u001b[39;49mCreateProcess(executable, args,\n\u001b[0;32m   1421\u001b[0m                              \u001b[39m# no special security\u001b[39;49;00m\n\u001b[0;32m   1422\u001b[0m                              \u001b[39mNone\u001b[39;49;00m, \u001b[39mNone\u001b[39;49;00m,\n\u001b[0;32m   1423\u001b[0m                              \u001b[39mint\u001b[39;49m(\u001b[39mnot\u001b[39;49;00m close_fds),\n\u001b[0;32m   1424\u001b[0m                              creationflags,\n\u001b[0;32m   1425\u001b[0m                              env,\n\u001b[0;32m   1426\u001b[0m                              cwd,\n\u001b[0;32m   1427\u001b[0m                              startupinfo)\n\u001b[0;32m   1428\u001b[0m \u001b[39mfinally\u001b[39;00m:\n\u001b[0;32m   1429\u001b[0m     \u001b[39m# Child is launched. Close the parent's copy of those pipe\u001b[39;00m\n\u001b[0;32m   1430\u001b[0m     \u001b[39m# handles that only the child should have open.  You need\u001b[39;00m\n\u001b[1;32m   (...)\u001b[0m\n\u001b[0;32m   1433\u001b[0m     \u001b[39m# pipe will not close when the child process exits and the\u001b[39;00m\n\u001b[0;32m   1434\u001b[0m     \u001b[39m# ReadFile will hang.\u001b[39;00m\n\u001b[0;32m   1435\u001b[0m     \u001b[39mself\u001b[39m\u001b[39m.\u001b[39m_close_pipe_fds(p2cread, p2cwrite,\n\u001b[0;32m   1436\u001b[0m                          c2pread, c2pwrite,\n\u001b[0;32m   1437\u001b[0m                          errread, errwrite)\n",
      "File \u001b[1;32mc:\\Users\\Daniel\\AppData\\Local\\Programs\\Python\\Python39\\lib\\site-packages\\debugpy\\_vendored\\pydevd\\_pydev_bundle\\pydev_monkey.py:901\u001b[0m, in \u001b[0;36mcreate_CreateProcess.<locals>.new_CreateProcess\u001b[1;34m(app_name, cmd_line, *args)\u001b[0m\n\u001b[0;32m    898\u001b[0m     cmd_line \u001b[39m=\u001b[39m patch_arg_str_win(cmd_line)\n\u001b[0;32m    899\u001b[0m     send_process_created_message()\n\u001b[1;32m--> 901\u001b[0m \u001b[39mreturn\u001b[39;00m \u001b[39mgetattr\u001b[39;49m(_subprocess, original_name)(app_name, cmd_line, \u001b[39m*\u001b[39;49margs)\n",
      "\u001b[1;31mFileNotFoundError\u001b[0m: [WinError 2] Das System kann die angegebene Datei nicht finden"
     ]
    }
   ],
   "source": [
    "import ffmpeg\n",
    "import sys\n",
    "from pprint import pprint # for printing Python dictionaries in a human-readable way\n",
    "\n",
    "file = \"C:/Users/Daniel/Desktop/Bilder Papa - Kopie/_/VID_20221105_124104.mp4\"\n",
    "\n",
    "# read the audio/video file from the command line arguments\n",
    "media_file = file\n",
    "# uses ffprobe command to extract all possible metadata from the media file\n",
    "ffmpeg.probe(media_file)[\"streams\"]\n"
   ]
  },
  {
   "cell_type": "code",
   "execution_count": 8,
   "metadata": {},
   "outputs": [
    {
     "ename": "FileNotFoundError",
     "evalue": "[WinError 2] Das System kann die angegebene Datei nicht finden",
     "output_type": "error",
     "traceback": [
      "\u001b[1;31m---------------------------------------------------------------------------\u001b[0m",
      "\u001b[1;31mFileNotFoundError\u001b[0m                         Traceback (most recent call last)",
      "Cell \u001b[1;32mIn[8], line 3\u001b[0m\n\u001b[0;32m      1\u001b[0m \u001b[39mimport\u001b[39;00m \u001b[39mffmpeg\u001b[39;00m\n\u001b[0;32m      2\u001b[0m file \u001b[39m=\u001b[39m \u001b[39m\"\u001b[39m\u001b[39mC:/Users/Daniel/Desktop/Bilder Papa - Kopie/_/VID_20221105_124104.mp4\u001b[39m\u001b[39m\"\u001b[39m\n\u001b[1;32m----> 3\u001b[0m vid \u001b[39m=\u001b[39m ffmpeg\u001b[39m.\u001b[39;49mprobe(file)\n\u001b[0;32m      4\u001b[0m \u001b[39mprint\u001b[39m(vid[\u001b[39m'\u001b[39m\u001b[39mstreams\u001b[39m\u001b[39m'\u001b[39m])\n",
      "File \u001b[1;32mc:\\Users\\Daniel\\AppData\\Local\\Programs\\Python\\Python39\\lib\\site-packages\\ffmpeg\\_probe.py:20\u001b[0m, in \u001b[0;36mprobe\u001b[1;34m(filename, cmd, **kwargs)\u001b[0m\n\u001b[0;32m     17\u001b[0m args \u001b[39m+\u001b[39m\u001b[39m=\u001b[39m convert_kwargs_to_cmd_line_args(kwargs)\n\u001b[0;32m     18\u001b[0m args \u001b[39m+\u001b[39m\u001b[39m=\u001b[39m [filename]\n\u001b[1;32m---> 20\u001b[0m p \u001b[39m=\u001b[39m subprocess\u001b[39m.\u001b[39;49mPopen(args, stdout\u001b[39m=\u001b[39;49msubprocess\u001b[39m.\u001b[39;49mPIPE, stderr\u001b[39m=\u001b[39;49msubprocess\u001b[39m.\u001b[39;49mPIPE)\n\u001b[0;32m     21\u001b[0m out, err \u001b[39m=\u001b[39m p\u001b[39m.\u001b[39mcommunicate()\n\u001b[0;32m     22\u001b[0m \u001b[39mif\u001b[39;00m p\u001b[39m.\u001b[39mreturncode \u001b[39m!=\u001b[39m \u001b[39m0\u001b[39m:\n",
      "File \u001b[1;32mc:\\Users\\Daniel\\AppData\\Local\\Programs\\Python\\Python39\\lib\\subprocess.py:951\u001b[0m, in \u001b[0;36mPopen.__init__\u001b[1;34m(self, args, bufsize, executable, stdin, stdout, stderr, preexec_fn, close_fds, shell, cwd, env, universal_newlines, startupinfo, creationflags, restore_signals, start_new_session, pass_fds, user, group, extra_groups, encoding, errors, text, umask)\u001b[0m\n\u001b[0;32m    947\u001b[0m         \u001b[39mif\u001b[39;00m \u001b[39mself\u001b[39m\u001b[39m.\u001b[39mtext_mode:\n\u001b[0;32m    948\u001b[0m             \u001b[39mself\u001b[39m\u001b[39m.\u001b[39mstderr \u001b[39m=\u001b[39m io\u001b[39m.\u001b[39mTextIOWrapper(\u001b[39mself\u001b[39m\u001b[39m.\u001b[39mstderr,\n\u001b[0;32m    949\u001b[0m                     encoding\u001b[39m=\u001b[39mencoding, errors\u001b[39m=\u001b[39merrors)\n\u001b[1;32m--> 951\u001b[0m     \u001b[39mself\u001b[39;49m\u001b[39m.\u001b[39;49m_execute_child(args, executable, preexec_fn, close_fds,\n\u001b[0;32m    952\u001b[0m                         pass_fds, cwd, env,\n\u001b[0;32m    953\u001b[0m                         startupinfo, creationflags, shell,\n\u001b[0;32m    954\u001b[0m                         p2cread, p2cwrite,\n\u001b[0;32m    955\u001b[0m                         c2pread, c2pwrite,\n\u001b[0;32m    956\u001b[0m                         errread, errwrite,\n\u001b[0;32m    957\u001b[0m                         restore_signals,\n\u001b[0;32m    958\u001b[0m                         gid, gids, uid, umask,\n\u001b[0;32m    959\u001b[0m                         start_new_session)\n\u001b[0;32m    960\u001b[0m \u001b[39mexcept\u001b[39;00m:\n\u001b[0;32m    961\u001b[0m     \u001b[39m# Cleanup if the child failed starting.\u001b[39;00m\n\u001b[0;32m    962\u001b[0m     \u001b[39mfor\u001b[39;00m f \u001b[39min\u001b[39;00m \u001b[39mfilter\u001b[39m(\u001b[39mNone\u001b[39;00m, (\u001b[39mself\u001b[39m\u001b[39m.\u001b[39mstdin, \u001b[39mself\u001b[39m\u001b[39m.\u001b[39mstdout, \u001b[39mself\u001b[39m\u001b[39m.\u001b[39mstderr)):\n",
      "File \u001b[1;32mc:\\Users\\Daniel\\AppData\\Local\\Programs\\Python\\Python39\\lib\\subprocess.py:1420\u001b[0m, in \u001b[0;36mPopen._execute_child\u001b[1;34m(self, args, executable, preexec_fn, close_fds, pass_fds, cwd, env, startupinfo, creationflags, shell, p2cread, p2cwrite, c2pread, c2pwrite, errread, errwrite, unused_restore_signals, unused_gid, unused_gids, unused_uid, unused_umask, unused_start_new_session)\u001b[0m\n\u001b[0;32m   1418\u001b[0m \u001b[39m# Start the process\u001b[39;00m\n\u001b[0;32m   1419\u001b[0m \u001b[39mtry\u001b[39;00m:\n\u001b[1;32m-> 1420\u001b[0m     hp, ht, pid, tid \u001b[39m=\u001b[39m _winapi\u001b[39m.\u001b[39;49mCreateProcess(executable, args,\n\u001b[0;32m   1421\u001b[0m                              \u001b[39m# no special security\u001b[39;49;00m\n\u001b[0;32m   1422\u001b[0m                              \u001b[39mNone\u001b[39;49;00m, \u001b[39mNone\u001b[39;49;00m,\n\u001b[0;32m   1423\u001b[0m                              \u001b[39mint\u001b[39;49m(\u001b[39mnot\u001b[39;49;00m close_fds),\n\u001b[0;32m   1424\u001b[0m                              creationflags,\n\u001b[0;32m   1425\u001b[0m                              env,\n\u001b[0;32m   1426\u001b[0m                              cwd,\n\u001b[0;32m   1427\u001b[0m                              startupinfo)\n\u001b[0;32m   1428\u001b[0m \u001b[39mfinally\u001b[39;00m:\n\u001b[0;32m   1429\u001b[0m     \u001b[39m# Child is launched. Close the parent's copy of those pipe\u001b[39;00m\n\u001b[0;32m   1430\u001b[0m     \u001b[39m# handles that only the child should have open.  You need\u001b[39;00m\n\u001b[1;32m   (...)\u001b[0m\n\u001b[0;32m   1433\u001b[0m     \u001b[39m# pipe will not close when the child process exits and the\u001b[39;00m\n\u001b[0;32m   1434\u001b[0m     \u001b[39m# ReadFile will hang.\u001b[39;00m\n\u001b[0;32m   1435\u001b[0m     \u001b[39mself\u001b[39m\u001b[39m.\u001b[39m_close_pipe_fds(p2cread, p2cwrite,\n\u001b[0;32m   1436\u001b[0m                          c2pread, c2pwrite,\n\u001b[0;32m   1437\u001b[0m                          errread, errwrite)\n",
      "File \u001b[1;32mc:\\Users\\Daniel\\AppData\\Local\\Programs\\Python\\Python39\\lib\\site-packages\\debugpy\\_vendored\\pydevd\\_pydev_bundle\\pydev_monkey.py:901\u001b[0m, in \u001b[0;36mcreate_CreateProcess.<locals>.new_CreateProcess\u001b[1;34m(app_name, cmd_line, *args)\u001b[0m\n\u001b[0;32m    898\u001b[0m     cmd_line \u001b[39m=\u001b[39m patch_arg_str_win(cmd_line)\n\u001b[0;32m    899\u001b[0m     send_process_created_message()\n\u001b[1;32m--> 901\u001b[0m \u001b[39mreturn\u001b[39;00m \u001b[39mgetattr\u001b[39;49m(_subprocess, original_name)(app_name, cmd_line, \u001b[39m*\u001b[39;49margs)\n",
      "\u001b[1;31mFileNotFoundError\u001b[0m: [WinError 2] Das System kann die angegebene Datei nicht finden"
     ]
    }
   ],
   "source": [
    "import ffmpeg\n",
    "file = \"C:/Users/Daniel/Desktop/Bilder Papa - Kopie/_/VID_20221105_124104.mp4\"\n",
    "vid = ffmpeg.probe(file)\n",
    "print(vid['streams'])"
   ]
  },
  {
   "cell_type": "code",
   "execution_count": 15,
   "metadata": {},
   "outputs": [
    {
     "name": "stdout",
     "output_type": "stream",
     "text": [
      "['Metadata:', '- duration: 0:00:18.687600', '- width: 1920', '- height: 1080', '']\n",
      "<Popen: returncode: None args: ['hachoir-metadata', 'C:/Users/Daniel/Desktop...>\n"
     ]
    }
   ],
   "source": [
    "\n",
    "import subprocess\n",
    "import datetime\n",
    "\n",
    "def get_media_properties(filename):\n",
    "    \n",
    "    result = subprocess.Popen(['hachoir-metadata', filename, '--raw', '--level=3'],\n",
    "        stdout = subprocess.PIPE, stderr = subprocess.STDOUT)\n",
    "\n",
    "    results = result.stdout.read().decode('utf-8').split('\\r\\n')\n",
    "    print(results)\n",
    "    print(result)\n",
    "\n",
    "    properties = {}\n",
    "\n",
    "    # for item in results:\n",
    "\n",
    "    #     if item.startswith('- duration: '):\n",
    "    #         duration = item.lstrip('- duration: ')\n",
    "    #         if '.' in duration:\n",
    "    #             t = datetime.datetime.strptime(item.lstrip('- duration: '), '%H:%M:%S.%f')\n",
    "    #         else:\n",
    "    #             t = datetime.datetime.strptime(item.lstrip('- duration: '), '%H:%M:%S')\n",
    "    #         seconds = (t.microsecond / 1e6) + t.second + (t.minute * 60) + (t.hour * 3600)\n",
    "    #         properties['duration'] = round(seconds)\n",
    "\n",
    "    #     if item.startswith('- width: '):\n",
    "    #         properties['width'] = int(item.lstrip('- width: '))\n",
    "\n",
    "    #     if item.startswith('- height: '):\n",
    "    #         properties['height'] = int(item.lstrip('- height: '))\n",
    "\n",
    "    # return properties\n",
    "\n",
    "get_media_properties(file)"
   ]
  },
  {
   "cell_type": "code",
   "execution_count": 19,
   "metadata": {},
   "outputs": [
    {
     "ename": "TypeError",
     "evalue": "can only concatenate str (not \"NoneType\") to str",
     "output_type": "error",
     "traceback": [
      "\u001b[1;31m---------------------------------------------------------------------------\u001b[0m",
      "\u001b[1;31mTypeError\u001b[0m                                 Traceback (most recent call last)",
      "Cell \u001b[1;32mIn[19], line 17\u001b[0m\n\u001b[0;32m     13\u001b[0m audio \u001b[39m=\u001b[39m TinyTag\u001b[39m.\u001b[39mget(file)\n\u001b[0;32m     15\u001b[0m \u001b[39m# Use the attributes\u001b[39;00m\n\u001b[0;32m     16\u001b[0m \u001b[39m# and Display\u001b[39;00m\n\u001b[1;32m---> 17\u001b[0m \u001b[39mprint\u001b[39m(\u001b[39m\"\u001b[39;49m\u001b[39mTitle:\u001b[39;49m\u001b[39m\"\u001b[39;49m \u001b[39m+\u001b[39;49m audio\u001b[39m.\u001b[39;49mtitle)\n\u001b[0;32m     18\u001b[0m \u001b[39mprint\u001b[39m(\u001b[39m\"\u001b[39m\u001b[39mArtist: \u001b[39m\u001b[39m\"\u001b[39m \u001b[39m+\u001b[39m audio\u001b[39m.\u001b[39martist)\n\u001b[0;32m     19\u001b[0m \u001b[39mprint\u001b[39m(\u001b[39m\"\u001b[39m\u001b[39mGenre:\u001b[39m\u001b[39m\"\u001b[39m \u001b[39m+\u001b[39m audio\u001b[39m.\u001b[39mgenre)\n",
      "\u001b[1;31mTypeError\u001b[0m: can only concatenate str (not \"NoneType\") to str"
     ]
    }
   ],
   "source": [
    "# Python3 program to illustrate\n",
    "# accessing of audio metadata\n",
    "# using tinytag library\n",
    "  \n",
    "# Import Tinytag method from\n",
    "# tinytag library\n",
    "from tinytag import TinyTag\n",
    "  \n",
    "# Pass the filename into the\n",
    "# Tinytag.get() method and store\n",
    "# the result in audio variable\n",
    "file = \"C:/Users/Daniel/Desktop/Bilder Papa - Kopie/_/VID_20221105_124104.mp4\"\n",
    "video = TinyTag.get(file)\n",
    "  \n",
    "# Use the attributes\n",
    "# and Display\n",
    "# Use the attributes\n",
    "# and display\n",
    "print(\"Title:\" + video.title)\n",
    "print(\"Artist: \" + video.artist)\n",
    "print(\"Genre:\" + video.genre)\n",
    "print(\"Year Released: \" + video.year)\n",
    "print(\"Bitrate:\" + str(video.bitrate) + \" kBits/s\")\n",
    "print(\"Composer: \" + video.composer)\n",
    "print(\"Filesize: \" + str(video.filesize) + \" bytes\")\n",
    "print(\"AlbumArtist: \" + str(video.albumartist))\n",
    "print(\"Duration: \" + str(video.duration) + \" seconds\")\n",
    "print(\"TrackTotal: \" + str(video.track_total))"
   ]
  },
  {
   "cell_type": "code",
   "execution_count": 1,
   "metadata": {},
   "outputs": [
    {
     "name": "stdout",
     "output_type": "stream",
     "text": [
      "-- press ENTER --\n"
     ]
    }
   ],
   "source": [
    "# import the preinstalled module\n",
    "import subprocess\n",
    "# write the complete path of your video file along with its type for example mp4 \n",
    "input_file = \"C:/Users/Daniel/Desktop/Bilder Papa - Kopie/_/VID_20221105_124104.mp4\"\n",
    "# write the complete path of the ExifTool in your device along with .exe at last\n",
    "exe=r\"C:\\Users\\Daniel\\Desktop\\Bilder Papa - Kopie\\exiftool-12.52\\exiftool(-k).exe\"\n",
    "# process is a variable\n",
    "process=subprocess.Popen([exe, input_file],stdout=subprocess.PIPE,stderr=subprocess.STDOUT,universal_newlines=True)\n",
    "# For the output\n",
    "for output in process.stdout:\n",
    "    print(output.strip()) # strip is used to remove unwanted spaces"
   ]
  },
  {
   "cell_type": "code",
   "execution_count": 5,
   "metadata": {},
   "outputs": [
    {
     "ename": "AttributeError",
     "evalue": "module 'exiftool' has no attribute 'get_metadata_batch'",
     "output_type": "error",
     "traceback": [
      "\u001b[1;31m---------------------------------------------------------------------------\u001b[0m",
      "\u001b[1;31mAttributeError\u001b[0m                            Traceback (most recent call last)",
      "Cell \u001b[1;32mIn[5], line 13\u001b[0m\n\u001b[0;32m     11\u001b[0m \u001b[39mimport\u001b[39;00m \u001b[39mexiftool\u001b[39;00m\n\u001b[0;32m     12\u001b[0m f \u001b[39m=\u001b[39m \u001b[39mopen\u001b[39m(\u001b[39m\"\u001b[39m\u001b[39mC:/Users/Daniel/Desktop/Bilder Papa - Kopie/_/VID_20221105_124104.mp4\u001b[39m\u001b[39m\"\u001b[39m)\n\u001b[1;32m---> 13\u001b[0m exiftool\u001b[39m.\u001b[39;49mget_metadata_batch(f)\n",
      "\u001b[1;31mAttributeError\u001b[0m: module 'exiftool' has no attribute 'get_metadata_batch'"
     ]
    }
   ],
   "source": [
    "import exiftool\n",
    "\n",
    "# # files = [\"a.jpg\", \"b.png\", \"c.tif\"]\n",
    "# input_file = \"C:/Users/Daniel/Desktop/Bilder Papa - Kopie/_/VID_20221105_124104.mp4\"\n",
    "\n",
    "# with exiftool.ExifTool() as et:\n",
    "#     metadata = et.get_metadata_batch(input_file)\n",
    "# # for d in metadata:\n",
    "\n",
    "\n",
    "import exiftool\n",
    "f = open(\"C:/Users/Daniel/Desktop/Bilder Papa - Kopie/_/VID_20221105_124104.mp4\")\n",
    "exiftool.get_metadata_batch(f)"
   ]
  },
  {
   "cell_type": "code",
   "execution_count": 70,
   "metadata": {},
   "outputs": [
    {
     "name": "stdout",
     "output_type": "stream",
     "text": [
      "2022-12-22 07:01:08+01:00\n",
      "2022-12-22 23:39:02+01:00\n",
      "2022-12-22 19:54:07+01:00\n",
      "2022-12-22 06:01:07\n",
      "2022-12-22 06:01:07\n",
      "2022-12-22 06:01:07\n",
      "2022-12-22 06:01:07\n",
      "2022-12-22 06:01:07\n",
      "2022-12-22 06:01:07\n"
     ]
    }
   ],
   "source": [
    "import subprocess\n",
    "import os\n",
    "import json\n",
    "from datetime import datetime\n",
    "from dateutil.parser import parse\n",
    "\n",
    "class ExifTool(object):\n",
    "\n",
    "    sentinel = \"{ready}\\r\\n\"\n",
    "\n",
    "    def __init__(self, executable=r\"exiftool.exe\"):\n",
    "        self.executable = executable\n",
    "\n",
    "    def __enter__(self):\n",
    "        self.process = subprocess.Popen(\n",
    "            [self.executable, \"-stay_open\", \"True\",  \"-@\", \"-\"],\n",
    "            stdin=subprocess.PIPE, stdout=subprocess.PIPE)\n",
    "        return self\n",
    "\n",
    "    def  __exit__(self, exc_type, exc_value, traceback):\n",
    "        self.process.stdin.write(\"-stay_open\\nFalse\\n\")\n",
    "        self.process.stdin.flush()\n",
    "\n",
    "    def execute(self, *args):\n",
    "        args = args + (\"-execute\\n\",)\n",
    "\n",
    "        self.process = subprocess.Popen(\n",
    "                [self.executable, \"-stay_open\", \"True\",  \"-@\", \"-\"],\n",
    "                universal_newlines=True,\n",
    "                stdin=subprocess.PIPE, stdout=subprocess.PIPE)\n",
    "        self.process.stdin.write(str.join(\"\\n\", args))\n",
    "        self.process.stdin.flush()\n",
    "        output = \"\"\n",
    "        fd = self.process.stdout.fileno()\n",
    "        while not output.endswith(self.sentinel):\n",
    "            output += os.read(fd, 4096).decode('utf-8')\n",
    "        return output[:-len(self.sentinel)]\n",
    "\n",
    "    def get_metadata(self, *filenames):\n",
    "        return json.loads(self.execute(\"-G\", \"-j\", \"-n\", *filenames))\n",
    "\n",
    "with ExifTool() as e:\n",
    "    # metadata = e.get_metadata(\"C:/Users/DanieCl/Desktop/Bilder Papa - Kopie/_/VID_20221105_124104.mp4\")\n",
    "    metadata = e.get_metadata(r\"C:\\Users\\Daniel\\Desktop\\Bilder Papa - Kopie\\_\\renamed\\renamed\\VID_20221222_060107.mp4\")\n",
    "\n",
    "# print(metadata[0][\"File:FileAccessDate\"])\n",
    "# print(metadata[0][\"File:FileCreateDate\"])\n",
    "# print(metadata[0][\"File:FileModifyDate\"])\n",
    "# print(parse(metadata[0][\"File:FileModifyDate\"]).replace(tzinfo=None))\n",
    "# print(type(parse(metadata[0][\"File:FileModifyDate\"])))\n",
    "print(parse(metadata[0][\"File:FileModifyDate\"]))\n",
    "print(parse(metadata[0][\"File:FileAccessDate\"]))\n",
    "print(parse(metadata[0][\"File:FileCreateDate\"]))\n",
    "print(parse(metadata[0][\"QuickTime:CreateDate\"]))\n",
    "print(parse(metadata[0][\"QuickTime:ModifyDate\"]))\n",
    "print(parse(metadata[0][\"QuickTime:TrackCreateDate\"]))\n",
    "print(parse(metadata[0][\"QuickTime:TrackModifyDate\"]))\n",
    "print(parse(metadata[0][\"QuickTime:MediaCreateDate\"]))\n",
    "print(parse(metadata[0][\"QuickTime:MediaModifyDate\"]))\n",
    "# File:FileModifyDate\n",
    "# File:FileAccessDate\n",
    "# File:FileCreateDate\n",
    "# QuickTime:CreateDate\n",
    "# QuickTime:ModifyDate\n",
    "# QuickTime:TrackCreateDate\n",
    "# QuickTime:TrackModifyDate\n",
    "# QuickTime:MediaCreateDate\n",
    "# QuickTime:MediaModifyDate\n",
    "\n",
    "\n",
    "# print(datetime(2022, 11, 22, 13, 41, 4, tzinfo=\"Europe/Berlin\") == parse(metadata[0][\"File:FileModifyDate\"]))"
   ]
  },
  {
   "cell_type": "code",
   "execution_count": 64,
   "metadata": {},
   "outputs": [
    {
     "data": {
      "text/plain": [
       "datetime.datetime(2022, 12, 22, 13, 41, 4, tzinfo=tzoffset(None, 3600))"
      ]
     },
     "execution_count": 64,
     "metadata": {},
     "output_type": "execute_result"
    }
   ],
   "source": [
    "parse(metadata[0][\"File:FileModifyDate\"])"
   ]
  },
  {
   "cell_type": "code",
   "execution_count": 58,
   "metadata": {},
   "outputs": [
    {
     "data": {
      "text/plain": [
       "True"
      ]
     },
     "execution_count": 58,
     "metadata": {},
     "output_type": "execute_result"
    }
   ],
   "source": [
    "import pytz\n",
    "datetime(2022, 12, 22, 13, 41, 4).astimezone(pytz.timezone(\"Europe/Berlin\")) == parse(metadata[0][\"File:FileModifyDate\"])\n",
    "datetime(2022, 12, 22, 13, 41, 4).astimezone(pytz.timezone(\"Europe/Berlin\")) == parse(metadata[0][\"File:FileModifyDate\"])"
   ]
  },
  {
   "attachments": {},
   "cell_type": "markdown",
   "metadata": {},
   "source": [
    "# -----------------"
   ]
  },
  {
   "cell_type": "code",
   "execution_count": 71,
   "metadata": {},
   "outputs": [],
   "source": [
    "path = r\"C:\\Users\\Daniel\\Desktop\\Bilder Papa - Kopie\\_\\renamed\\renamed\\renamed\\IMG_20220615_120350.jpg\""
   ]
  },
  {
   "cell_type": "code",
   "execution_count": 73,
   "metadata": {},
   "outputs": [
    {
     "name": "stdout",
     "output_type": "stream",
     "text": [
      "2022-06-15 12:03:50\n"
     ]
    }
   ],
   "source": [
    "from exif import Image\n",
    "with open(path, \"rb\") as src:\n",
    "    img = Image(src)        \n",
    "    print(datetime.strptime(img.datetime, '%Y:%m:%d %H:%M:%S'))"
   ]
  }
 ],
 "metadata": {
  "kernelspec": {
   "display_name": "Python 3",
   "language": "python",
   "name": "python3"
  },
  "language_info": {
   "codemirror_mode": {
    "name": "ipython",
    "version": 3
   },
   "file_extension": ".py",
   "mimetype": "text/x-python",
   "name": "python",
   "nbconvert_exporter": "python",
   "pygments_lexer": "ipython3",
   "version": "3.9.2"
  },
  "orig_nbformat": 4,
  "vscode": {
   "interpreter": {
    "hash": "655ead04705df25979b098d70d07560a40ffb3d6c4aa160f4c4d023dee151a17"
   }
  }
 },
 "nbformat": 4,
 "nbformat_minor": 2
}
